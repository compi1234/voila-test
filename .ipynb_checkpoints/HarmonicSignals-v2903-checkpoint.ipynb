{
 "cells": [
  {
   "cell_type": "markdown",
   "metadata": {},
   "source": [
    "# Harmonic Signals\n",
    "### Observe waveform and spectrum or spectrogram \n",
    "### Control frequency and amplitude of a sine - square - sawtooth signal\n",
    "\n",
    "Author: Dirk Van Compernolle   \n",
    "Created: 29/03/2021\n",
    "\n",
    "Comments:  This is an older version with minimal dependencies (not on pyspch, not on librosa)\n",
    "\n",
    "---------------------------------------------------------\n",
    "A minimal number of Dependencies: \n",
    "- IPython > 6.0       (works with lower version, but not fully)\n",
    "- ipywidget\n",
    "- matplotlib\n",
    "- numpy \n",
    "- scipy "
   ]
  },
  {
   "cell_type": "code",
   "execution_count": 1,
   "metadata": {},
   "outputs": [
    {
     "data": {
      "text/html": [
       "\n",
       "<style>\n",
       "    div#notebook-container    { width: 99%; }\n",
       "    div#menubar-container     { width: 65%; }\n",
       "    div#maintoolbar-container { width: 99%; }\n",
       "</style>\n"
      ],
      "text/plain": [
       "<IPython.core.display.HTML object>"
      ]
     },
     "metadata": {},
     "output_type": "display_data"
    }
   ],
   "source": [
    "%matplotlib inline\n",
    "import ipywidgets as widgets\n",
    "from ipywidgets import interact, interact_manual, interactive, interactive_output\n",
    "import numpy as np\n",
    "import matplotlib.pyplot as plt\n",
    "import matplotlib\n",
    "from scipy import signal\n",
    "from IPython.display import display, clear_output, Audio, HTML\n",
    "import time\n",
    "\n",
    "def my_sine(x, w, amp, phi):\n",
    "    return amp*np.sin(w * (x-phi))\n",
    "#\n",
    "def synth(sigtype='sin', freq=200.0, amp=1.0, samplerate=8000, Tmax=0.25):\n",
    "    t = np.linspace(0.0, Tmax, int(Tmax*samplerate), endpoint=False)\n",
    "    if sigtype == 'sin':\n",
    "        x = np.sin(2.0*np.pi*freq*t)\n",
    "    elif sigtype == 'square':\n",
    "        x = signal.square(2.0*np.pi*freq*t)\n",
    "    elif sigtype == 'sawtooth':\n",
    "        x = signal.sawtooth(2.0*np.pi*freq*t)\n",
    "    else:\n",
    "        print( 'signal: Unrecognized signal type')\n",
    "    return amp*x, t\n",
    "\n",
    "def spectrogram(x,samplerate=8000,length=30.0,shift=10.0):\n",
    "    hop_length = int(samplerate*shift/1000.)\n",
    "    win_length = int(samplerate*length/1000.)\n",
    "    spg_stft = librosa.stft(x,n_fft=512,hop_length=hop_length,win_length=win_length)\n",
    "    return( librosa.power_to_db(np.abs(spg_stft)**2) )\n",
    "\n",
    "# a default boxed layout\n",
    "def box_layout():\n",
    "     return widgets.Layout(\n",
    "        border='solid 1px black',\n",
    "        margin='0px 10px 10px 0px',\n",
    "        padding='5px 5px 5px 5px'\n",
    "     )\n",
    "\n",
    "# The following code will increase the default width of your Jupyter notebook cells\n",
    "# Supposed to work well \n",
    "display(HTML(data=\"\"\"\n",
    "<style>\n",
    "    div#notebook-container    { width: 99%; }\n",
    "    div#menubar-container     { width: 65%; }\n",
    "    div#maintoolbar-container { width: 99%; }\n",
    "</style>\n",
    "\"\"\"))"
   ]
  },
  {
   "cell_type": "markdown",
   "metadata": {},
   "source": [
    "## DEMO 1: Waveform and Spectrum of Harmonic Signals\n",
    "\n",
    "CAVEAT:   \n",
    "+ The Autodisplay function does not work perfectly on Ipython < 6.0 [Google Colab] which has autonormalization by default in the display.Audio() function"
   ]
  },
  {
   "cell_type": "code",
   "execution_count": 2,
   "metadata": {},
   "outputs": [
    {
     "data": {
      "application/vnd.jupyter.widget-view+json": {
       "model_id": "abaf89226acd41b1a24ac4963f4c2214",
       "version_major": 2,
       "version_minor": 0
      },
      "text/plain": [
       "Harmonic_Signals(children=(Output(layout=Layout(border='solid 1px black', margin='0px 10px 10px 0px', padding=…"
      ]
     },
     "metadata": {},
     "output_type": "display_data"
    }
   ],
   "source": [
    "class Harmonic_Signals(widgets.HBox):\n",
    "\n",
    "    def __init__(self):\n",
    "        super().__init__()\n",
    "        \n",
    "        self.samplerate = 16000\n",
    "        self.Tmax = .25        \n",
    "        display_types = ['spectrum','spectrogram']\n",
    "        signal_types = [ 'sin', 'square', 'sawtooth' ]\n",
    "        \n",
    "        self.disptype = 'spectrum'\n",
    "        self.sigtype = 'sin'\n",
    "        self.freq = 440.\n",
    "        self.amp = 1.\n",
    "        self.autoplay = False\n",
    "\n",
    "        # create the widgets\n",
    "        self.wg_disptype = widgets.Dropdown(options=display_types,value=self.disptype,description=\"Display\")\n",
    "        self.wg_sigtype = widgets.Dropdown(options=signal_types,value=self.sigtype,description=\"Signal\")\n",
    "        self.wg_amp = widgets.FloatLogSlider(value=self.amp,step=0.2,min=-2.,max=0.0,description='Amplitude',continous_update=False)\n",
    "        self.wg_freq = widgets.FloatSlider(value=self.freq,step=10.,min=50.0,max=1000.,description='Frequency',continous_update=False)\n",
    "        self.wg_autoplay = widgets.Checkbox(value=self.autoplay,description='Autoplay Audio',indent=False,button_style='warning')\n",
    "        self.wg_autoplay.layout.width='45%'\n",
    "        self.wg_clear_log = widgets.Button(description='Clear the log')\n",
    "        self.wg_clear_log.layout.width='45%'\n",
    "        \n",
    "        # link to the widget observers\n",
    "        self.wg_disptype.observe(self.disptype_observe,'value')\n",
    "        self.wg_sigtype.observe(self.sigtype_observe,'value')\n",
    "        self.wg_amp.observe(self.amp_observe,'value')    \n",
    "        self.wg_freq.observe(self.freq_observe,'value')\n",
    "        self.wg_autoplay.observe(self.autoplay_clicked, 'value')\n",
    "        self.wg_clear_log.on_click(self.clear_log_clicked)\n",
    "\n",
    "        # setup the outputs \n",
    "        self.audio = widgets.Output()\n",
    "        self.logscr = widgets.Output()\n",
    "        self.out = widgets.Output(layout=box_layout())\n",
    "        self.UI = widgets.VBox( [self.wg_disptype,self.wg_sigtype, self.wg_amp, self.wg_freq, widgets.HBox([self.wg_autoplay, self.wg_clear_log])] ,layout=box_layout())\n",
    "        self.right_screen = widgets.VBox([self.UI, self.audio,  self.logscr],layout=box_layout())\n",
    "                                          \n",
    "        # initialize the plots\n",
    "        self.fig,self.ax = plt.subplots(2,1,constrained_layout=True, figsize=(9, 4))\n",
    "        self.update()\n",
    "        plt.close()          # avoids output of dummy figure on startup\n",
    "        # initialize the displayed function\n",
    "\n",
    "        # attach children to the VBox class\n",
    "        self.children = [ self.out, self.right_screen ] \n",
    "\n",
    "    def update(self):\n",
    "        y,x = synth(sigtype=self.sigtype,freq=self.freq,amp=self.amp,samplerate=self.samplerate,Tmax=self.Tmax)\n",
    "\n",
    "        ax = self.ax\n",
    "        ax[0].cla()\n",
    "        ax[0].plot(x, y, color='C0')\n",
    "        ax[0].set_ylim([-1, 1])\n",
    "        ax[0].grid(True)\n",
    "        ax[0].set_title('Waveform')\n",
    "        ax[0].set_xlabel('Time(sec)')\n",
    "        ax[0].set_xlim([0,self.Tmax])\n",
    "       \n",
    "        if self.disptype == 'spectrum':\n",
    "            ax[1].cla()\n",
    "            freq_ax,spec = signal.periodogram(y,fs=self.samplerate,scaling='spectrum')\n",
    "            ax[1].plot(freq_ax,np.sqrt(2*spec))\n",
    "            ax[1].set_title('Spectrum')\n",
    "            ax[1].set_xlabel('Frequency')\n",
    "            ax[1].set_ylim([0, 1])\n",
    "            ax[1].grid(True)\n",
    "            ax[1].set_xlim([0,self.samplerate/2.])\n",
    "        elif self.disptype == 'spectrogram':\n",
    "            ax[1].cla()\n",
    "            with self.logscr: print(\"Spectrogram disabled for debugging\")\n",
    "            #spg = spectrogram(y,samplerate=self.samplerate)\n",
    "            #ax[1].imshow(spg[:,:-1],cmap='jet',aspect='auto',origin='lower')\n",
    "            ax[1].set_title('Spectrogram')\n",
    "            ax[1].set_xlabel('Time(sec)')\n",
    "\n",
    "            \n",
    "        # here come the things that go to dedicated output widgets\n",
    "        with self.out:\n",
    "            clear_output(wait=True)\n",
    "            display(self.fig)\n",
    "        with self.audio:\n",
    "            clear_output(wait=True)\n",
    "            try:\n",
    "                display(Audio(data=y,rate=self.samplerate,normalize=False, autoplay=self.autoplay))\n",
    "            except: \n",
    "                try:\n",
    "                    with self.logscr:\n",
    "                        #clear_output(wait=True)\n",
    "                        print(\"Warning: playing normalized sound\")\n",
    "                    display(Audio(data=y,rate=self.samplerate, autoplay=self.autoplay))\n",
    "                except: pass\n",
    "     \n",
    "    def disptype_observe(self,change):\n",
    "        self.disptype = change.new\n",
    "        self.update()\n",
    "    \n",
    "    def sigtype_observe(self,change):\n",
    "        self.sigtype = change.new\n",
    "        self.update()\n",
    "    \n",
    "    def amp_observe(self,change):\n",
    "        self.amp = change.new\n",
    "        self.update()\n",
    "        \n",
    "    def freq_observe(self,change):\n",
    "        self.freq = change.new\n",
    "        self.update()\n",
    "        \n",
    "    def autoplay_clicked(self,obj):\n",
    "        self.autoplay = not self.autoplay\n",
    "        with self.logscr: print('Toggling autoplay',self.autoplay) \n",
    "    def clear_log_clicked(self):\n",
    "        with self.logscr: clear_output()                   \n",
    "\n",
    "Harmonic_Signals() "
   ]
  },
  {
   "cell_type": "code",
   "execution_count": null,
   "metadata": {},
   "outputs": [],
   "source": []
  }
 ],
 "metadata": {
  "kernelspec": {
   "display_name": "Python 3",
   "language": "python",
   "name": "python3"
  },
  "language_info": {
   "codemirror_mode": {
    "name": "ipython",
    "version": 3
   },
   "file_extension": ".py",
   "mimetype": "text/x-python",
   "name": "python",
   "nbconvert_exporter": "python",
   "pygments_lexer": "ipython3",
   "version": "3.8.3"
  },
  "widgets": {
   "application/vnd.jupyter.widget-state+json": {
    "state": {
     "02f24d9f7849472fa61680a15e5ea352": {
      "model_module": "@jupyter-widgets/controls",
      "model_module_version": "1.5.0",
      "model_name": "DropdownModel",
      "state": {
       "_options_labels": [
        "spectrum",
        "spectrogram"
       ],
       "description": "Display",
       "index": 0,
       "layout": "IPY_MODEL_929c3f074a2a4a7997515aa432a6996c",
       "style": "IPY_MODEL_0961761cebba4850962e083d3d528e36"
      }
     },
     "0573cb355873426a9f1f07228f6c58db": {
      "model_module": "@jupyter-widgets/base",
      "model_module_version": "1.2.0",
      "model_name": "LayoutModel",
      "state": {}
     },
     "0961761cebba4850962e083d3d528e36": {
      "model_module": "@jupyter-widgets/controls",
      "model_module_version": "1.5.0",
      "model_name": "DescriptionStyleModel",
      "state": {
       "description_width": ""
      }
     },
     "0a3781ab627c4399a8eff90371e9e598": {
      "model_module": "@jupyter-widgets/output",
      "model_module_version": "1.0.0",
      "model_name": "OutputModel",
      "state": {
       "layout": "IPY_MODEL_c3f781fea50944b1bfd991869b9b9d31",
       "outputs": [
        {
         "name": "stdout",
         "output_type": "stream",
         "text": "Toggling autoplay True\n"
        }
       ]
      }
     },
     "20f339bc7c9a4ec6bacd20241134731d": {
      "model_module": "@jupyter-widgets/controls",
      "model_module_version": "1.5.0",
      "model_name": "CheckboxModel",
      "state": {
       "description": "Autoplay Audio",
       "disabled": false,
       "indent": false,
       "layout": "IPY_MODEL_2a88683764414cd4abd4dd37e6ff3736",
       "style": "IPY_MODEL_968e0474130d4ab28f5d936d44043d39",
       "value": true
      }
     },
     "2a88683764414cd4abd4dd37e6ff3736": {
      "model_module": "@jupyter-widgets/base",
      "model_module_version": "1.2.0",
      "model_name": "LayoutModel",
      "state": {
       "width": "45%"
      }
     },
     "339223248f964cb1982dfb121ebc506a": {
      "model_module": "@jupyter-widgets/controls",
      "model_module_version": "1.5.0",
      "model_name": "ButtonStyleModel",
      "state": {}
     },
     "4475403d4f7b4775ae581db3b81793c5": {
      "model_module": "@jupyter-widgets/base",
      "model_module_version": "1.2.0",
      "model_name": "LayoutModel",
      "state": {}
     },
     "560d8b90be9f436c8f68405e26e2eb01": {
      "model_module": "@jupyter-widgets/base",
      "model_module_version": "1.2.0",
      "model_name": "LayoutModel",
      "state": {}
     },
     "6ae8fa3d5dcb43519eb847e49a3e0a19": {
      "model_module": "@jupyter-widgets/output",
      "model_module_version": "1.0.0",
      "model_name": "OutputModel",
      "state": {
       "layout": "IPY_MODEL_4475403d4f7b4775ae581db3b81793c5",
       "outputs": [
        {
         "data": {
          "text/html": "\n                <audio  controls=\"controls\" autoplay=\"autoplay\">\n                    <source src=\"data:audio/wav;base64,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\" type=\"audio/wav\" />\n                    Your browser does not support the audio element.\n                </audio>\n              ",
          "text/plain": "<IPython.lib.display.Audio object>"
         },
         "metadata": {},
         "output_type": "display_data"
        }
       ]
      }
     },
     "6b54207db7034bdba9fadbc6a7f1b1b2": {
      "model_module": "@jupyter-widgets/base",
      "model_module_version": "1.2.0",
      "model_name": "LayoutModel",
      "state": {
       "width": "45%"
      }
     },
     "71e5b5b526264d7fa605d4bd0e3f67bc": {
      "model_module": "@jupyter-widgets/controls",
      "model_module_version": "1.5.0",
      "model_name": "FloatLogSliderModel",
      "state": {
       "description": "Amplitude",
       "layout": "IPY_MODEL_0573cb355873426a9f1f07228f6c58db",
       "max": 0,
       "min": -2,
       "step": 0.2,
       "style": "IPY_MODEL_c47e6c016a4f4db5be7463200cabd6eb",
       "value": 0.06309573444801933
      }
     },
     "7ae57edeedbd4c30b93999c7051c8145": {
      "model_module": "@jupyter-widgets/base",
      "model_module_version": "1.2.0",
      "model_name": "LayoutModel",
      "state": {
       "border": "solid 1px black",
       "margin": "0px 10px 10px 0px",
       "padding": "5px 5px 5px 5px"
      }
     },
     "926a613ebcd34274ba4c7e974c5fe45b": {
      "model_module": "@jupyter-widgets/controls",
      "model_module_version": "1.5.0",
      "model_name": "HBoxModel",
      "state": {
       "children": [
        "IPY_MODEL_20f339bc7c9a4ec6bacd20241134731d",
        "IPY_MODEL_b7c5feb6ab8342a9854c211ef6f5307e"
       ],
       "layout": "IPY_MODEL_f296b92f3d5049bd825e8dbcb6bf8304"
      }
     },
     "929c3f074a2a4a7997515aa432a6996c": {
      "model_module": "@jupyter-widgets/base",
      "model_module_version": "1.2.0",
      "model_name": "LayoutModel",
      "state": {}
     },
     "94c425fa36f0406ca4234a2c34ad42f6": {
      "model_module": "@jupyter-widgets/controls",
      "model_module_version": "1.5.0",
      "model_name": "VBoxModel",
      "state": {
       "children": [
        "IPY_MODEL_02f24d9f7849472fa61680a15e5ea352",
        "IPY_MODEL_a7d2c6dfab2a44c5a0f56acfb8dc2060",
        "IPY_MODEL_71e5b5b526264d7fa605d4bd0e3f67bc",
        "IPY_MODEL_e26a8c5068654358861e7b56a0c49345",
        "IPY_MODEL_926a613ebcd34274ba4c7e974c5fe45b"
       ],
       "layout": "IPY_MODEL_e7c9657c032d4a79a531f099e8373308"
      }
     },
     "957bfaf70ba84dc3a91e47debcedc8a8": {
      "model_module": "@jupyter-widgets/base",
      "model_module_version": "1.2.0",
      "model_name": "LayoutModel",
      "state": {}
     },
     "968e0474130d4ab28f5d936d44043d39": {
      "model_module": "@jupyter-widgets/controls",
      "model_module_version": "1.5.0",
      "model_name": "DescriptionStyleModel",
      "state": {
       "description_width": ""
      }
     },
     "9ea8dd188e6441e1a62fcbcd8a1a4ad8": {
      "model_module": "@jupyter-widgets/base",
      "model_module_version": "1.2.0",
      "model_name": "LayoutModel",
      "state": {}
     },
     "a7d2c6dfab2a44c5a0f56acfb8dc2060": {
      "model_module": "@jupyter-widgets/controls",
      "model_module_version": "1.5.0",
      "model_name": "DropdownModel",
      "state": {
       "_options_labels": [
        "sin",
        "square",
        "sawtooth"
       ],
       "description": "Signal",
       "index": 0,
       "layout": "IPY_MODEL_9ea8dd188e6441e1a62fcbcd8a1a4ad8",
       "style": "IPY_MODEL_f6cce6e7f6174f059ccf7465fbcb0909"
      }
     },
     "abaf89226acd41b1a24ac4963f4c2214": {
      "model_module": "@jupyter-widgets/controls",
      "model_module_version": "1.5.0",
      "model_name": "HBoxModel",
      "state": {
       "children": [
        "IPY_MODEL_c7f14e1c93864d51ae55097ad40758d9",
        "IPY_MODEL_fdce94183e834049a73d4b46c8d7226c"
       ],
       "layout": "IPY_MODEL_957bfaf70ba84dc3a91e47debcedc8a8"
      }
     },
     "b7c5feb6ab8342a9854c211ef6f5307e": {
      "model_module": "@jupyter-widgets/controls",
      "model_module_version": "1.5.0",
      "model_name": "ButtonModel",
      "state": {
       "description": "Clear the log",
       "layout": "IPY_MODEL_6b54207db7034bdba9fadbc6a7f1b1b2",
       "style": "IPY_MODEL_339223248f964cb1982dfb121ebc506a"
      }
     },
     "c3f781fea50944b1bfd991869b9b9d31": {
      "model_module": "@jupyter-widgets/base",
      "model_module_version": "1.2.0",
      "model_name": "LayoutModel",
      "state": {}
     },
     "c47e6c016a4f4db5be7463200cabd6eb": {
      "model_module": "@jupyter-widgets/controls",
      "model_module_version": "1.5.0",
      "model_name": "SliderStyleModel",
      "state": {
       "description_width": ""
      }
     },
     "c7f14e1c93864d51ae55097ad40758d9": {
      "model_module": "@jupyter-widgets/output",
      "model_module_version": "1.0.0",
      "model_name": "OutputModel",
      "state": {
       "layout": "IPY_MODEL_dc9e3bce729047e580647e9388339b9e",
       "outputs": [
        {
         "data": {
          "image/png": "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\n",
          "text/plain": "<Figure size 648x288 with 2 Axes>"
         },
         "metadata": {},
         "output_type": "display_data"
        }
       ]
      }
     },
     "dc9e3bce729047e580647e9388339b9e": {
      "model_module": "@jupyter-widgets/base",
      "model_module_version": "1.2.0",
      "model_name": "LayoutModel",
      "state": {
       "border": "solid 1px black",
       "margin": "0px 10px 10px 0px",
       "padding": "5px 5px 5px 5px"
      }
     },
     "e0cc2a3389a34014aff7ff5b0d6cd3ce": {
      "model_module": "@jupyter-widgets/controls",
      "model_module_version": "1.5.0",
      "model_name": "SliderStyleModel",
      "state": {
       "description_width": ""
      }
     },
     "e26a8c5068654358861e7b56a0c49345": {
      "model_module": "@jupyter-widgets/controls",
      "model_module_version": "1.5.0",
      "model_name": "FloatSliderModel",
      "state": {
       "description": "Frequency",
       "layout": "IPY_MODEL_560d8b90be9f436c8f68405e26e2eb01",
       "max": 1000,
       "min": 50,
       "step": 10,
       "style": "IPY_MODEL_e0cc2a3389a34014aff7ff5b0d6cd3ce",
       "value": 830
      }
     },
     "e7c9657c032d4a79a531f099e8373308": {
      "model_module": "@jupyter-widgets/base",
      "model_module_version": "1.2.0",
      "model_name": "LayoutModel",
      "state": {
       "border": "solid 1px black",
       "margin": "0px 10px 10px 0px",
       "padding": "5px 5px 5px 5px"
      }
     },
     "f296b92f3d5049bd825e8dbcb6bf8304": {
      "model_module": "@jupyter-widgets/base",
      "model_module_version": "1.2.0",
      "model_name": "LayoutModel",
      "state": {}
     },
     "f6cce6e7f6174f059ccf7465fbcb0909": {
      "model_module": "@jupyter-widgets/controls",
      "model_module_version": "1.5.0",
      "model_name": "DescriptionStyleModel",
      "state": {
       "description_width": ""
      }
     },
     "fdce94183e834049a73d4b46c8d7226c": {
      "model_module": "@jupyter-widgets/controls",
      "model_module_version": "1.5.0",
      "model_name": "VBoxModel",
      "state": {
       "children": [
        "IPY_MODEL_94c425fa36f0406ca4234a2c34ad42f6",
        "IPY_MODEL_6ae8fa3d5dcb43519eb847e49a3e0a19",
        "IPY_MODEL_0a3781ab627c4399a8eff90371e9e598"
       ],
       "layout": "IPY_MODEL_7ae57edeedbd4c30b93999c7051c8145"
      }
     }
    },
    "version_major": 2,
    "version_minor": 0
   }
  }
 },
 "nbformat": 4,
 "nbformat_minor": 4
}
