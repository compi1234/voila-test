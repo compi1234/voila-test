{
 "cells": [
  {
   "cell_type": "code",
   "execution_count": 1,
   "metadata": {
    "tags": [
     "nbconvert-hide"
    ]
   },
   "outputs": [],
   "source": [
    "# Notebook with ipywidget examples\n",
    "#\n",
    "# DVC - 24/11/2020\n",
    "#\n",
    "# Dependencies:\n",
    "# - ipywidgets, Ipython.display, numpy\n",
    "#\n",
    "# Note: I'm using a code cell such that there is no output generated\n",
    "#       Tried to add the nbconvert-hide tag, but that is not enough"
   ]
  },
  {
   "cell_type": "code",
   "execution_count": null,
   "metadata": {},
   "outputs": [],
   "source": []
  },
  {
   "cell_type": "markdown",
   "metadata": {},
   "source": [
    "# Introduction to ipywidgets\n",
    "- overview of the basic widgets and stylings\n",
    "- a simple guessing game putting as a demo app"
   ]
  },
  {
   "cell_type": "markdown",
   "metadata": {},
   "source": [
    "### The most basic slider"
   ]
  },
  {
   "cell_type": "code",
   "execution_count": 2,
   "metadata": {},
   "outputs": [],
   "source": [
    "import ipywidgets as widgets\n",
    "from ipywidgets import interact, interact_manual, interactive\n",
    "import IPython.display as ipd\n",
    "import numpy as np"
   ]
  },
  {
   "cell_type": "code",
   "execution_count": 3,
   "metadata": {},
   "outputs": [
    {
     "data": {
      "application/vnd.jupyter.widget-view+json": {
       "model_id": "5bcbd6a0a4d849de81ce3092f591977b",
       "version_major": 2,
       "version_minor": 0
      },
      "text/plain": [
       "IntSlider(value=0, max=20)"
      ]
     },
     "metadata": {},
     "output_type": "display_data"
    }
   ],
   "source": [
    "# widget1: integer slider\n",
    "slider1 = widgets.IntSlider(max=20)\n",
    "ipd.display(slider1)\n",
    "def my_func(x):\n",
    "    print(2*x)"
   ]
  },
  {
   "cell_type": "code",
   "execution_count": 4,
   "metadata": {
    "scrolled": true
   },
   "outputs": [],
   "source": [
    "# The code below works as expected in Jupyter Notebook,\n",
    "#    but not in Jupyter lab !, rendering in voila, ...\n",
    "# button1 = widgets.Button(description=\"B1\")\n",
    "#\n",
    "# def printMe(b):\n",
    "#        print(\"Printing something\")\n",
    "# button1.on_click(printMe)\n",
    "# button1"
   ]
  },
  {
   "cell_type": "markdown",
   "metadata": {},
   "source": [
    "### A button  ... that prints"
   ]
  },
  {
   "cell_type": "code",
   "execution_count": 5,
   "metadata": {},
   "outputs": [
    {
     "data": {
      "application/vnd.jupyter.widget-view+json": {
       "model_id": "c76afa556a9c475b834950d571465d07",
       "version_major": 2,
       "version_minor": 0
      },
      "text/plain": [
       "Button(description='Click me to Print', style=ButtonStyle())"
      ]
     },
     "metadata": {},
     "output_type": "display_data"
    },
    {
     "data": {
      "application/vnd.jupyter.widget-view+json": {
       "model_id": "23448df5994e4a258cc3a70136b4f872",
       "version_major": 2,
       "version_minor": 0
      },
      "text/plain": [
       "Output()"
      ]
     },
     "metadata": {},
     "output_type": "display_data"
    }
   ],
   "source": [
    "# simple button, but sending the output via output widget\n",
    "button1b = widgets.Button(description=\"Click me to Print\")\n",
    "output1 = widgets.Output()\n",
    "ipd.display(button1b,output1)\n",
    "def printMe(b):\n",
    "    with output1:\n",
    "        print(\"Printed something\")\n",
    "button1b.on_click(printMe)\n",
    "#button1b"
   ]
  },
  {
   "cell_type": "markdown",
   "metadata": {},
   "source": [
    "### A textbox  ... get's printed n times "
   ]
  },
  {
   "cell_type": "code",
   "execution_count": 6,
   "metadata": {},
   "outputs": [
    {
     "data": {
      "application/vnd.jupyter.widget-view+json": {
       "model_id": "2786acfa3edc4cec8690a627c2f47b61",
       "version_major": 2,
       "version_minor": 0
      },
      "text/plain": [
       "interactive(children=(Text(value='', description='text'), IntSlider(value=2, description='times', max=5), Outp…"
      ]
     },
     "metadata": {},
     "output_type": "display_data"
    }
   ],
   "source": [
    "# widget 3: printing text\n",
    "@interact( text='', times=(0,5) )\n",
    "def printIt(text,times):\n",
    "    print( text * times )"
   ]
  },
  {
   "cell_type": "markdown",
   "metadata": {},
   "source": [
    "### A progress bar ...  counts your clicks"
   ]
  },
  {
   "cell_type": "code",
   "execution_count": 7,
   "metadata": {},
   "outputs": [
    {
     "data": {
      "application/vnd.jupyter.widget-view+json": {
       "model_id": "5c4250ad17694c56af7ef8524ec48ef6",
       "version_major": 2,
       "version_minor": 0
      },
      "text/plain": [
       "HBox(children=(Button(description='add one ... ', style=ButtonStyle()), IntProgress(value=0, bar_style='succes…"
      ]
     },
     "metadata": {},
     "output_type": "display_data"
    }
   ],
   "source": [
    "progress_bar = widgets.IntProgress(\n",
    "    value=0,\n",
    "    min=0, max=10,step=1,\n",
    "    description='Counting',\n",
    "    bar_style='success',\n",
    "    orientation='horizontal'\n",
    "    )\n",
    "btn_add = widgets.Button( description= 'add one ... ' )\n",
    "\n",
    "def AddOne(b):\n",
    "    progress_bar.value += 1\n",
    "    if progress_bar.value == 10:\n",
    "        progress_bar.bar_style=''\n",
    "    elif progress_bar.value % 2 != 0:\n",
    "        progress_bar.bar_style='danger'\n",
    "    else:\n",
    "        progress_bar.bar_style='success'\n",
    "btn_add.on_click(AddOne)\n",
    "\n",
    "widgets.HBox([btn_add, progress_bar])"
   ]
  },
  {
   "cell_type": "markdown",
   "metadata": {},
   "source": [
    "### A dropdown menu ... doesn't do anything here"
   ]
  },
  {
   "cell_type": "code",
   "execution_count": 8,
   "metadata": {},
   "outputs": [
    {
     "data": {
      "application/vnd.jupyter.widget-view+json": {
       "model_id": "ec548f39cbaa49f38da50b63bea7a482",
       "version_major": 2,
       "version_minor": 0
      },
      "text/plain": [
       "Dropdown(description='ACTION', options=('REC', 'PLAY'), value='REC')"
      ]
     },
     "metadata": {},
     "output_type": "display_data"
    }
   ],
   "source": [
    "rec_play = widgets.Dropdown(\n",
    "    options={'REC','PLAY'},\n",
    "    description='ACTION',\n",
    ")\n",
    "rec_play"
   ]
  },
  {
   "cell_type": "markdown",
   "metadata": {},
   "source": [
    "### Linking widgets together with the Play widget"
   ]
  },
  {
   "cell_type": "code",
   "execution_count": 9,
   "metadata": {},
   "outputs": [
    {
     "data": {
      "application/vnd.jupyter.widget-view+json": {
       "model_id": "30ad911aba8448348a35074c36a4e23d",
       "version_major": 2,
       "version_minor": 0
      },
      "text/plain": [
       "HBox(children=(Play(value=50, description='Press play', interval=1000), IntSlider(value=0)))"
      ]
     },
     "metadata": {},
     "output_type": "display_data"
    }
   ],
   "source": [
    "# widget2: animation by Play\n",
    "play2 = widgets.Play(\n",
    "    interval=1000, # interval in msec between animation frame\n",
    "    value=50,\n",
    "    min=0,\n",
    "    max=100,\n",
    "    step=1,\n",
    "    description=\"Press play\",\n",
    "    disabled=False\n",
    ")\n",
    "slider2 = widgets.IntSlider()\n",
    "widgets.jslink((play2, 'value'), (slider2, 'value'))\n",
    "widgets.HBox([play2, slider2])"
   ]
  },
  {
   "cell_type": "markdown",
   "metadata": {},
   "source": [
    "___\n",
    "### Simple App: \n",
    "The outputs are displayed in the output widget and can be cleared as wished\n",
    "___"
   ]
  },
  {
   "cell_type": "code",
   "execution_count": 17,
   "metadata": {},
   "outputs": [
    {
     "data": {
      "application/vnd.jupyter.widget-view+json": {
       "model_id": "0051f415edc841c1b9036afd85b5e288",
       "version_major": 2,
       "version_minor": 0
      },
      "text/plain": [
       "HBox(children=(VBox(children=(Label(value='Controls'), Button(description='button 1', style=ButtonStyle()), Bu…"
      ]
     },
     "metadata": {},
     "output_type": "display_data"
    }
   ],
   "source": [
    "# compose your app of a few controls and an output widget\n",
    "# beautify by putting them all in boxes\n",
    "def make_box_layout():\n",
    "     return widgets.Layout(\n",
    "        border='solid 1px black',\n",
    "        margin='0px 10px 10px 0px',\n",
    "        padding='5px 5px 5px 5px'\n",
    "     )\n",
    "\n",
    "b1 = widgets.Button(description='button 1')\n",
    "b2 = widgets.Button(description='button 2')\n",
    "b3 = widgets.Button(description='CLEAR')\n",
    "b3.style.button_color = 'red'\n",
    "\n",
    "vbox1 = widgets.VBox([widgets.Label('Controls'), b1, b2])\n",
    "vbox2 = widgets.VBox([widgets.Label('CTRL-CLEAR'), b3 ])\n",
    "vbox1.layout = make_box_layout()\n",
    "vbox2.layout = make_box_layout()\n",
    "\n",
    "screen1 = widgets.Output()\n",
    "screen1.layout = make_box_layout()\n",
    "screen1.layout.width='200px'\n",
    "screen2 = widgets.Output()\n",
    "screen2.layout = make_box_layout()\n",
    "screen2.layout.width='200px'\n",
    "\n",
    "def b1_clicked(b):\n",
    "    with screen1:\n",
    "        print(\"Button 1 clicked.\")\n",
    "b1.on_click(b1_clicked)\n",
    "def b2_clicked(b):\n",
    "    with screen2:\n",
    "        print(\"Button 2 clicked.\")\n",
    "b2.on_click(b2_clicked)\n",
    "def b3_clicked(b):\n",
    "    with screen1:\n",
    "        ipd.clear_output()\n",
    "    with screen2:\n",
    "        ipd.clear_output()\n",
    "b3.on_click(b3_clicked) \n",
    "\n",
    "myapp = widgets.HBox([vbox1, vbox2,screen1,screen2])\n",
    "myapp"
   ]
  },
  {
   "cell_type": "markdown",
   "metadata": {},
   "source": [
    "---\n",
    "### GAME:  Beat the Bot (guessing game)\n",
    "The bot learns from your previous clicking behavior   \n",
    "Just try to beat him   \n",
    "Have you found the optimum strategy\n",
    "\n",
    "-----"
   ]
  },
  {
   "cell_type": "code",
   "execution_count": 11,
   "metadata": {},
   "outputs": [],
   "source": [
    "# some globals as needed\n",
    "global user_history\n",
    "user_history = [1,0]\n",
    "target_score = 5\n",
    "\n",
    "#buttons\n",
    "btn0 = widgets.Button( description= '0' )\n",
    "btn1 = widgets.Button( description= '1' )\n",
    "btnS = widgets.Button( description= 'START' )\n",
    "\n",
    "def click_zero(b):\n",
    "    update_game(0)\n",
    "btn0.on_click( click_zero )\n",
    "def click_one(b):\n",
    "    update_game(1)\n",
    "btn1.on_click( click_one )\n",
    "def click_start(b):\n",
    "    update_game(0,start=True)\n",
    "btnS.on_click( click_start )\n",
    "btn0.disabled = True\n",
    "btn1.disabled = True\n",
    "btn0.button_style ='info'\n",
    "btn1.button_style ='info'\n",
    "btnS.button_style ='warning'\n",
    "# score board\n",
    "user_score = widgets.IntProgress(\n",
    "    value=0,\n",
    "    min=0, max=target_score,step=1,\n",
    "    description='You',\n",
    "    bar_style='success',\n",
    "    orientation='horizontal'\n",
    "    )\n",
    "bot_score = widgets.IntProgress(\n",
    "    value=0,\n",
    "    min=0, max=target_score,step=1,\n",
    "    description='Bot',\n",
    "    bar_style='danger',\n",
    "    orientation='horizontal'\n",
    "    )\n",
    "scoreboard= widgets.VBox((user_score,bot_score))\n",
    "final_msg = widgets.HTML(\"<h1 style='color:green'> You win </h1>\")\n",
    "final_msg.layout.visibility = \"hidden\"\n",
    "# layout\n",
    "game = widgets.VBox( ( widgets.HBox((scoreboard,final_msg)),\n",
    "                   widgets.HBox((btn0,btn1,btnS))\n",
    "             ))"
   ]
  },
  {
   "cell_type": "code",
   "execution_count": 12,
   "metadata": {},
   "outputs": [],
   "source": [
    "#\n",
    "# game rules\n",
    "#\n",
    "# note only user_history had to be defined as a global\n",
    "# all widgets behave by nature as such\n",
    "\n",
    "def update_game(user_choice,start=False):\n",
    "    global user_history\n",
    "\n",
    "    if( start ):\n",
    "        user_history = [1,0]\n",
    "        final_msg.value = \"<h1 style='color:green'> You win </h1>\"\n",
    "        final_msg.layout.visibility = \"hidden\"\n",
    "        user_score.value = 0\n",
    "        bot_score.value = 0\n",
    "        btn0.disabled = False\n",
    "        btn1.disabled = False\n",
    "        btnS.disabled = True\n",
    "        btnS.button_style = ''\n",
    "        return\n",
    "    prob = sum(user_history)/len(user_history)\n",
    "    comp_choice = np.random.binomial(1,prob,1)[0]\n",
    "    user_history.append( user_choice )\n",
    "    # print(\"sequence length: \",len(user_history)-2)\n",
    "    if comp_choice == user_choice:\n",
    "        bot_score.value += 1\n",
    "    else:\n",
    "        user_score.value += 1\n",
    "    if user_score.value == target_score or bot_score.value == target_score:\n",
    "        if bot_score.value == target_score:\n",
    "            final_msg.value = \"<h1 style='color:red'>Game Over</h1>\"\n",
    "        final_msg.layout.visibility = \"visible\"\n",
    "        btn0.disabled = True\n",
    "        btn1.disabled = True\n",
    "        btnS.disabled = False\n",
    "        btnS.button_style = 'warning'\n",
    "    return"
   ]
  },
  {
   "cell_type": "code",
   "execution_count": 13,
   "metadata": {},
   "outputs": [
    {
     "data": {
      "application/vnd.jupyter.widget-view+json": {
       "model_id": "6454423ed40944e68ced31a5966349f9",
       "version_major": 2,
       "version_minor": 0
      },
      "text/plain": [
       "VBox(children=(HBox(children=(VBox(children=(IntProgress(value=0, bar_style='success', description='You', max=…"
      ]
     },
     "metadata": {},
     "output_type": "display_data"
    }
   ],
   "source": [
    "game"
   ]
  },
  {
   "cell_type": "code",
   "execution_count": null,
   "metadata": {},
   "outputs": [],
   "source": []
  }
 ],
 "metadata": {
  "kernelspec": {
   "display_name": "Python 3",
   "language": "python",
   "name": "python3"
  },
  "language_info": {
   "codemirror_mode": {
    "name": "ipython",
    "version": 3
   },
   "file_extension": ".py",
   "mimetype": "text/x-python",
   "name": "python",
   "nbconvert_exporter": "python",
   "pygments_lexer": "ipython3",
   "version": "3.8.3"
  }
 },
 "nbformat": 4,
 "nbformat_minor": 4
}
